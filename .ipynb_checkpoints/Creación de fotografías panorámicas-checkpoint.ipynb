{
 "cells": [
  {
   "cell_type": "markdown",
   "id": "7f6d07d0-f9c8-4b9c-8317-cd29c5211c38",
   "metadata": {},
   "source": [
    "<br>\n",
    "<h1 style=\"\n",
    "    color: #2B4F81;\n",
    "    font-family: Poppins, Nunito, sans-serif;\n",
    "    text-align: center;\n",
    "    font-size: 3em;\n",
    "    font-weight: 800;\n",
    "    text-shadow: 2px 2px 4px rgba(0,0,0,0.2);\">\n",
    "    Creación de Fotografías Panorámicas\n",
    "</h1>\n",
    "<br><br>"
   ]
  },
  {
   "cell_type": "markdown",
   "id": "7a9f4a9c-db99-4043-84c2-bec4fa3621c0",
   "metadata": {},
   "source": [
    "<h2 style=\"\n",
    "    color: #6495ED;\n",
    "    font-family: Poppins, Nunito, sans-serif;\n",
    "    font-size: 1.5em;\n",
    "    font-weight: 800;\n",
    "    text-shadow: 2px 2px 4px rgba(0,0,0,0.2);\">\n",
    "    Introducción\n",
    "</h2>\n",
    "\n",
    "El proposito principal de este cuadernillo es permitir al usuario la creación de fotografías panorámicas usando como base una o varias fotografías <br><br>\n",
    "El trabajo no solo tiene como fin obtener resultados visuales de calidad, sino también profundizar en el conocimiento técnico y práctico de los procesos involucrados en la síntesis de imágenes compuestas. A lo largo del desarrollo se ha puesto especial énfasis en la comprensión de cada etapa del pipeline de generación, fomentando así el aprendizaje autónomo y colaborativo entre los participantes."
   ]
  },
  {
   "cell_type": "markdown",
   "id": "5caefb59-507b-44d9-9a85-624ecbb52889",
   "metadata": {},
   "source": [
    "<h2 style=\"\n",
    "    color: #6495ED;\n",
    "    font-family: Poppins, Nunito, sans-serif;\n",
    "    font-size: 1.5em;\n",
    "    font-weight: 800;\n",
    "    text-shadow: 2px 2px 4px rgba(0,0,0,0.2);\">\n",
    "    Explicación del Código\n",
    "</h2>"
   ]
  },
  {
   "cell_type": "markdown",
   "id": "ce0e7de4-34de-446e-96d0-3a8af1b5ee79",
   "metadata": {},
   "source": [
    "<h3 style=\"\n",
    "    color: #FF7F50;\n",
    "    font-family: Poppins, Nunito, sans-serif;\n",
    "    font-size: 1.2em;\n",
    "    font-weight: 800;\n",
    "    text-shadow: 2px 2px 4px rgba(0,0,0,0.2);\">\n",
    "    ¿Qué Hace Cada Librería?\n",
    "</h3>\n",
    "<ul>\n",
    "    <li><code>imutils.paths</code> permite obtener de forma sencilla los caminos (rutas) de todas las imágenes en una carpeta.</li>\n",
    "    <li><code>numpy</code> para manejar matrices y operaciones numéricas, como crear máscaras o bordes.</li>\n",
    "    <li><code>argparse</code> sirve para recibir parámetros desde la línea de comandos (aunque más adelante lo modificas para usar listas en vez de comandos).</li>\n",
    "    <li><code>cv2</code> es la librería OpenCV, usada para procesamiento de imágenes y visión por computador.</li>\n",
    "</ul>\n",
    "\n",
    "<br>\n",
    "\n",
    "<h3 style=\"\n",
    "    color: #FF7F50;\n",
    "    font-family: Poppins, Nunito, sans-serif;\n",
    "    font-size: 1.2em;\n",
    "    font-weight: 800;\n",
    "    text-shadow: 2px 2px 4px rgba(0,0,0,0.2);\">\n",
    "    Primer Paso: 🗂️ Cargar Imágenes desde Carpeta\n",
    "</h3>\n",
    "<code>\n",
    "    imagePaths = sorted(list(paths.list_images(args[0])))\n",
    "    images = []\n",
    "    for imagePath in imagePaths:\n",
    "    \timage = cv2.imread(imagePath)\n",
    "    \timages.append(image)\n",
    "</code>\n",
    "<ul>\n",
    "    <li><code>paths.list_images()</code> obtiene la lista de imágenes.</li>\n",
    "    <li><code>sorted(...)</code> las ordena alfabéticamente (importante para que la panorámica tenga sentido).</li>\n",
    "    <li><code>cv2.imread</code> lee cada imagen.</li>\n",
    "    <li><code>images.append</code> las guarda en una lista.</li>\n",
    "</ul>\n",
    "\n",
    "<br>\n",
    "\n",
    "<h3 style=\"\n",
    "    color: #FF7F50;\n",
    "    font-family: Poppins, Nunito, sans-serif;\n",
    "    font-size: 1.2em;\n",
    "    font-weight: 800;\n",
    "    text-shadow: 2px 2px 4px rgba(0,0,0,0.2);\">\n",
    "    Segundo Paso: 🧵 Coser las Imágenes (Stitching)\n",
    "</h3>\n",
    "El Proceso de Recorte es:\n",
    "<ol>\n",
    "    <li>Borde adicional para asegurar que no se corte información útil</li>\n",
    "    <li>Convertir a escala de grises y umbralizar</li>\n",
    "    <li>Encontrar el contorno más grande (la imagen cosida)</li>\n",
    "    <li>Crear una máscara rectangular y “erosionarla” hasta que encaje perfectamente con los datos válidos</li>\n",
    "    <li>Obtener el rectángulo mínimo real y hacer el recorte final</li>\n",
    "    <li>Guardar y mostrar el resultado final recortado</li>\n",
    "</ol>\n",
    "\n",
    "<br>\n",
    "\n",
    "<h3 style=\"\n",
    "    color: #FF7F50;\n",
    "    font-family: Poppins, Nunito, sans-serif;\n",
    "    font-size: 1.2em;\n",
    "    font-weight: 800;\n",
    "    text-shadow: 2px 2px 4px rgba(0,0,0,0.2);\">\n",
    "    ❌ Si el stitching falla...\n",
    "</h3>\n",
    "Informa que algo salió mal (pocas coincidencias, mala iluminación, imágenes incompatibles, etc.)"
   ]
  },
  {
   "cell_type": "markdown",
   "id": "3a8e8d38-b301-4bda-97e5-671ae8b16318",
   "metadata": {},
   "source": [
    "<h2 style=\"\n",
    "    color: #6495ED;\n",
    "    font-family: Poppins, Nunito, sans-serif;\n",
    "    font-size: 1.5em;\n",
    "    font-weight: 800;\n",
    "    text-shadow: 2px 2px 4px rgba(0,0,0,0.2);\">\n",
    "    Implementación\n",
    "</h2>"
   ]
  },
  {
   "cell_type": "code",
   "execution_count": 3,
   "id": "612f260a-c927-4873-9a2d-81cebac9415e",
   "metadata": {},
   "outputs": [
    {
     "name": "stdout",
     "output_type": "stream",
     "text": [
      "Requirement already satisfied: imutils in c:\\users\\danie\\anaconda3\\envs\\imagen\\lib\\site-packages (0.5.4)\n"
     ]
    }
   ],
   "source": [
    "#Se trata de un paquete necesario para el correcto funcionamiento de este código\n",
    "!pip install --upgrade imutils\n",
    "#=======LIBRERIAS=======#\n",
    "from imutils import paths\n",
    "import numpy as np\n",
    "import argparse\n",
    "import imutils\n",
    "import cv2"
   ]
  },
  {
   "cell_type": "code",
   "execution_count": 4,
   "id": "2e440349-bde0-436e-865b-aadd9a570264",
   "metadata": {},
   "outputs": [
    {
     "name": "stdout",
     "output_type": "stream",
     "text": [
      "[INFO] loading images...\n"
     ]
    }
   ],
   "source": [
    "# DIFERENTES ARGUMENTOS NECESARIOS:\n",
    "# · RUTA DE LAS IMÁGENES QUE QUIERES USAR[ORDENADAS EN LA CARPETA],\n",
    "# · RUTA DE SALIDA + NOMBRE DE LA IMAGEN,\n",
    "# · SI QUIERES QUE SE RECORTE O NO\n",
    "args = [\"imagenes_entrada/balcon/\", \"imagenes_salida/pano_balcon.png\", \"0\"] # ESTO QUE LO HAGA EL USUARIO EN EL MOMENTO\n",
    "\n",
    "print(\"[INFO] loading images...\") # PRINTS EN CONSOLA PARA VER QUE VA"
   ]
  },
  {
   "cell_type": "code",
   "execution_count": 5,
   "id": "23481611-b420-4a20-b04c-365ed350330d",
   "metadata": {},
   "outputs": [],
   "source": [
    "# Guardamos las imagenes en una lista\n",
    "imagePaths = sorted(list(paths.list_images(args[0])))\n",
    "images = []\n",
    "for imagePath in imagePaths:\n",
    "\timage = cv2.imread(imagePath)\n",
    "\timages.append(image)"
   ]
  },
  {
   "cell_type": "code",
   "execution_count": 6,
   "id": "f1fbd5ea-4e8c-4e98-b7ce-87f87571073c",
   "metadata": {},
   "outputs": [
    {
     "name": "stdout",
     "output_type": "stream",
     "text": [
      "[INFO] stitching images...\n"
     ]
    }
   ],
   "source": [
    "# Momento donde se unen las imágenes, pero pueden quedar mal\n",
    "print(\"[INFO] stitching images...\")  # PRINTS EN CONSOLA PARA VER QUE VA\n",
    "stitcher = cv2.createStitcher() if imutils.is_cv3() else cv2.Stitcher_create()\n",
    "(status, stitched) = stitcher.stitch(images)"
   ]
  },
  {
   "cell_type": "code",
   "execution_count": 7,
   "id": "9cdb2d5f-3e3f-4dd6-b2eb-637a8263803a",
   "metadata": {},
   "outputs": [
    {
     "name": "stdin",
     "output_type": "stream",
     "text": [
      "¿Quieres recortar la panorámica para que no tenga marcas negras raras?(SI/NO): SI\n"
     ]
    },
    {
     "name": "stdout",
     "output_type": "stream",
     "text": [
      "0\n",
      "[INFO] cropping...\n"
     ]
    }
   ],
   "source": [
    "if status == 0: # Si sale 0 es que va bien la unión de las imágenes\n",
    "\t\n",
    "    # El usuario ve primero la imagen, y después se le pregunta si quiere recortarla o no\n",
    "\tcv2.imwrite(args[1], stitched)\n",
    "\tcv2.imshow(\"Panorámica\", stitched)\n",
    "\tcv2.waitKey(0)\n",
    "\twhile args[2] not in (0, 1):\n",
    "\t\targs[2] = input(\"¿Quieres recortar la panorámica para que no tenga marcas negras raras?(SI/NO):\")\n",
    "\t\tif args[2].lower() == \"si\":\n",
    "\t\t\targs[2] = 0 \n",
    "\t\telif args[2].lower() == \"no\":\n",
    "\t\t\targs[2] = 1\n",
    "\t\telse:\n",
    "\t\t\targs[2] = \"Respuesta errónea\"\n",
    "\t\tprint(args[2])\n",
    "\n",
    "\tif args[2] == 0: #0 si quieres recortar, 1 si no\n",
    "\n",
    "\t\tprint(\"[INFO] cropping...\") # PRINTS EN CONSOLA PARA VER QUE VA\n",
    "\t\tstitched = cv2.copyMakeBorder(stitched, 10, 10, 10, 10, cv2.BORDER_CONSTANT, (0, 0, 0)) # Borde de 10 píxeles\n",
    "\t\t\n",
    "\t\t# Separa entre negro (del fondo) y la foto en si, poniendo a 0 el color del fondo y a 255 la de la imagen\n",
    "\t\tgray = cv2.cvtColor(stitched, cv2.COLOR_BGR2GRAY)\n",
    "\t\tthresh = cv2.threshold(gray, 0, 255, cv2.THRESH_BINARY)[1]\n",
    "\t\t\n",
    "        # Busca los contornos externos de la imagen umbralizada (blanco=foto y negro=fondo) \n",
    "\t\t# y busca el contorno más grande para marcarlo como borde de la imagen\n",
    "\t\tcnts = cv2.findContours(thresh.copy(), cv2.RETR_EXTERNAL, cv2.CHAIN_APPROX_SIMPLE)\n",
    "\t\tcnts = imutils.grab_contours(cnts)\n",
    "\t\tc = max(cnts, key=cv2.contourArea)\n",
    "\n",
    "\t\t# Creacion de la variable que contendrá la máscara\n",
    "\t\tmask = np.zeros(thresh.shape, dtype=\"uint8\")\n",
    "\t\t(x, y, w, h) = cv2.boundingRect(c)\n",
    "\t\tcv2.rectangle(mask, (x, y), (x + w, y + h), 255, -1)\n",
    "\t\t\n",
    "        # Usaremos 2 copias de la máscara de la panorámica\n",
    "\t\tminRect = mask.copy() # Con esta se irán erosinando los bordes \n",
    "\t\tsub = mask.copy() # Esta otra contara la cantidad de pixeles que se quitarán usando ese rectángulo\n",
    "\t\t\n",
    "\t\t# bucle para eliminar todos los pixeles blancos, para saber hasta donde hay que cortar la imagen\n",
    "\t\twhile cv2.countNonZero(sub) > 0:\n",
    "\t\t\tminRect = cv2.erode(minRect, None) # Rascamos parte del borde\n",
    "\t\t\tsub = cv2.subtract(minRect, thresh) # Quitamos esa parte\n",
    "\t\t\t# Así hasta quitar los pixeles que son foto (blancos)\n",
    "\t\t\t\n",
    "        # Busca los contornos de la máscara recortada y saca las coordenadas para el borde\n",
    "\t\tcnts = cv2.findContours(minRect.copy(), cv2.RETR_EXTERNAL, cv2.CHAIN_APPROX_SIMPLE)\n",
    "\t\tcnts = imutils.grab_contours(cnts)\n",
    "\t\tc = max(cnts, key=cv2.contourArea)\n",
    "\t\t(x, y, w, h) = cv2.boundingRect(c) # Coordenadas\n",
    "\n",
    "\t\t# Quitamos de la imagen el borde\n",
    "\t\tstitched = stitched[y:y + h, x:x + w]\n",
    "\n",
    "\t\t# Lo mismo de antes, para guardar y visualizar la imagen --> HACER QUE SE VEA EN EL JUPYTER\n",
    "\t\tcv2.imwrite(args[1], stitched)\n",
    "\t\tcv2.imshow(\"Stitched\", stitched)\n",
    "\t\tcv2.waitKey(0)\n",
    "\t\t\t\n",
    "else: # SI VA MAL\n",
    "\tprint(\"[INFO] image stitching failed ({})\".format(status))"
   ]
  },
  {
   "cell_type": "markdown",
   "id": "b252caa7-0396-4554-b067-1a2ab668b5c4",
   "metadata": {},
   "source": [
    "<h2 style=\"\n",
    "    color: #6495ED;\n",
    "    font-family: Poppins, Nunito, sans-serif;\n",
    "    font-size: 1.5em;\n",
    "    font-weight: 800;\n",
    "    text-shadow: 2px 2px 4px rgba(0,0,0,0.2);\">\n",
    "    Conclusiones\n",
    "</h2>"
   ]
  },
  {
   "cell_type": "markdown",
   "id": "acc2e810-8af9-45c4-a90c-ba2c84536ede",
   "metadata": {},
   "source": [
    "Los desarrolladores de este proyecto, Jacobo Sánchez-Malo Cabañero y Daniel Díez Lafuente hemos podido poner en práctica los conocimientos\n",
    "adquiridos durante las sesiones prácticas de la asignatura de Imagen; Nos ha servido sobre todo para poner en práctica\n",
    "los conceptos de Stitching, Detectores de Contorno y la conversión a escala de grises (así como sus utilidades).\n",
    "<br><br>\n",
    "Sobra decir que hemos difrutado del proyecto y podemos afirmar con seguridad entender en plenitud el funcionamiento, tanto de nuestro\n",
    "código, como de la materia impartida a lo largo de la asignatura."
   ]
  },
  {
   "cell_type": "code",
   "execution_count": null,
   "id": "3bd2064b-1237-40e6-962c-c5c76ff536b7",
   "metadata": {},
   "outputs": [],
   "source": []
  }
 ],
 "metadata": {
  "kernelspec": {
   "display_name": "Python 3 (ipykernel)",
   "language": "python",
   "name": "python3"
  },
  "language_info": {
   "codemirror_mode": {
    "name": "ipython",
    "version": 3
   },
   "file_extension": ".py",
   "mimetype": "text/x-python",
   "name": "python",
   "nbconvert_exporter": "python",
   "pygments_lexer": "ipython3",
   "version": "3.9.19"
  }
 },
 "nbformat": 4,
 "nbformat_minor": 5
}
