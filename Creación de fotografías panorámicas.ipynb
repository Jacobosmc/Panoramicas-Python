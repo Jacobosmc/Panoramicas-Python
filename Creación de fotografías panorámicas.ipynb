{
 "cells": [
  {
   "cell_type": "markdown",
   "id": "7f6d07d0-f9c8-4b9c-8317-cd29c5211c38",
   "metadata": {},
   "source": [
    "<h1 style=\"\n",
    "    color: #2B4F81;\n",
    "    font-family: Poppins, Nunito, sans-serif;\n",
    "    text-align: center;\n",
    "    font-size: 3em;\n",
    "    font-weight: 800;\n",
    "    text-shadow: 2px 2px 4px rgba(0,0,0,0.2);\">\n",
    "    Creación de Fotografías Panorámicas\n",
    "</h1>"
   ]
  },
  {
   "cell_type": "markdown",
   "id": "7a9f4a9c-db99-4043-84c2-bec4fa3621c0",
   "metadata": {},
   "source": [
    "<h2 style=\"\n",
    "    color: #6495ED;\n",
    "    font-family: Poppins, Nunito, sans-serif;\n",
    "    font-size: 1.5em;\n",
    "    font-weight: 800;\n",
    "    text-shadow: 2px 2px 4px rgba(0,0,0,0.2);\">\n",
    "    Introducción\n",
    "</h2>\n",
    "\n",
    "El proposito principal de este cuadernillo es permitir al usuario la creación de fotografías panorámicas usando como base una o varias fotografías de su elección"
   ]
  },
  {
   "cell_type": "markdown",
   "id": "5caefb59-507b-44d9-9a85-624ecbb52889",
   "metadata": {},
   "source": [
    "<h2 style=\"\n",
    "    color: #6495ED;\n",
    "    font-family: Poppins, Nunito, sans-serif;\n",
    "    font-size: 1.5em;\n",
    "    font-weight: 800;\n",
    "    text-shadow: 2px 2px 4px rgba(0,0,0,0.2);\">\n",
    "    Explicación del Código\n",
    "</h2>"
   ]
  },
  {
   "cell_type": "markdown",
   "id": "ce0e7de4-34de-446e-96d0-3a8af1b5ee79",
   "metadata": {},
   "source": [
    "<h3 style=\"\n",
    "    color: #FF7F50;\n",
    "    font-family: Poppins, Nunito, sans-serif;\n",
    "    font-size: 1.2em;\n",
    "    font-weight: 800;\n",
    "    text-shadow: 2px 2px 4px rgba(0,0,0,0.2);\">\n",
    "    ¿Qué Hace Cada Librería?\n",
    "</h3>\n",
    "<ul>\n",
    "    <li><code>imutils.paths</code> permite obtener de forma sencilla los caminos (rutas) de todas las imágenes en una carpeta.</li>\n",
    "    <li><code>numpy</code> para manejar matrices y operaciones numéricas, como crear máscaras o bordes.</li>\n",
    "    <li><code>argparse</code> sirve para recibir parámetros desde la línea de comandos (aunque más adelante lo modificas para usar listas en vez de comandos).</li>\n",
    "    <li><code>cv2</code> es la librería OpenCV, usada para procesamiento de imágenes y visión por computador.</li>\n",
    "</ul>\n",
    "\n",
    "<br>\n",
    "\n",
    "<h3 style=\"\n",
    "    color: #FF7F50;\n",
    "    font-family: Poppins, Nunito, sans-serif;\n",
    "    font-size: 1.2em;\n",
    "    font-weight: 800;\n",
    "    text-shadow: 2px 2px 4px rgba(0,0,0,0.2);\">\n",
    "    Primer Paso: 🗂️ Cargar Imágenes desde Carpeta\n",
    "</h3>\n",
    "<code>\n",
    "    imagePaths = sorted(list(paths.list_images(args[0])))\n",
    "    images = []\n",
    "    for imagePath in imagePaths:\n",
    "    \timage = cv2.imread(imagePath)\n",
    "    \timages.append(image)\n",
    "</code>\n",
    "<ul>\n",
    "    <li><code>paths.list_images()</code> obtiene la lista de imágenes.</li>\n",
    "    <li><code>sorted(...)</code> las ordena alfabéticamente (importante para que la panorámica tenga sentido).</li>\n",
    "    <li><code>cv2.imread</code> lee cada imagen.</li>\n",
    "    <li><code>images.append</code> las guarda en una lista.</li>\n",
    "</ul>\n",
    "\n",
    "<br>\n",
    "\n",
    "<h3 style=\"\n",
    "    color: #FF7F50;\n",
    "    font-family: Poppins, Nunito, sans-serif;\n",
    "    font-size: 1.2em;\n",
    "    font-weight: 800;\n",
    "    text-shadow: 2px 2px 4px rgba(0,0,0,0.2);\">\n",
    "    Segundo Paso: 🧵 Coser las Imágenes (Stitching)\n",
    "</h3>\n",
    "El Proceso de Recorte es:\n",
    "<ol>\n",
    "    <li>Borde adicional para asegurar que no se corte información útil</li>\n",
    "    <li>Convertir a escala de grises y umbralizar</li>\n",
    "    <li>Encontrar el contorno más grande (la imagen cosida)</li>\n",
    "    <li>Crear una máscara rectangular y “erosionarla” hasta que encaje perfectamente con los datos válidos</li>\n",
    "    <li>Obtener el rectángulo mínimo real y hacer el recorte final</li>\n",
    "    <li>Guardar y mostrar el resultado final recortado</li>\n",
    "</ol>\n",
    "\n",
    "<br>\n",
    "\n",
    "<h3 style=\"\n",
    "    color: #FF7F50;\n",
    "    font-family: Poppins, Nunito, sans-serif;\n",
    "    font-size: 1.2em;\n",
    "    font-weight: 800;\n",
    "    text-shadow: 2px 2px 4px rgba(0,0,0,0.2);\">\n",
    "    ❌ Si el stitching falla...\n",
    "</h3>\n",
    "Informa que algo salió mal (pocas coincidencias, mala iluminación, imágenes incompatibles, etc.)"
   ]
  },
  {
   "cell_type": "markdown",
   "id": "3a8e8d38-b301-4bda-97e5-671ae8b16318",
   "metadata": {},
   "source": [
    "<h2 style=\"\n",
    "    color: #6495ED;\n",
    "    font-family: Poppins, Nunito, sans-serif;\n",
    "    font-size: 1.5em;\n",
    "    font-weight: 800;\n",
    "    text-shadow: 2px 2px 4px rgba(0,0,0,0.2);\">\n",
    "    Funcionamiento\n",
    "</h2>"
   ]
  },
  {
   "cell_type": "code",
   "execution_count": 5,
   "id": "612f260a-c927-4873-9a2d-81cebac9415e",
   "metadata": {},
   "outputs": [
    {
     "name": "stdout",
     "output_type": "stream",
     "text": [
      "Requirement already satisfied: imutils in c:\\users\\danie\\anaconda3\\envs\\imagen\\lib\\site-packages (0.5.4)\n"
     ]
    },
    {
     "ename": "SyntaxError",
     "evalue": "invalid syntax (codigo_final.py, line 8)",
     "output_type": "error",
     "traceback": [
      "Traceback \u001b[1;36m(most recent call last)\u001b[0m:\n",
      "\u001b[0m  File \u001b[0;32m~\\anaconda3\\envs\\Imagen\\lib\\site-packages\\IPython\\core\\interactiveshell.py:3526\u001b[0m in \u001b[0;35mrun_code\u001b[0m\n    exec(code_obj, self.user_global_ns, self.user_ns)\u001b[0m\n",
      "\u001b[1;36m  Cell \u001b[1;32mIn[5], line 3\u001b[1;36m\n\u001b[1;33m    import codigo_final\u001b[1;36m\n",
      "\u001b[1;36m  File \u001b[1;32m~\\OneDrive\\Escritorio\\Imagen\\Trabajo\\Panoramicas-Python\\codigo_final.py:8\u001b[1;36m\u001b[0m\n\u001b[1;33m    <<<<<<< HEAD\u001b[0m\n\u001b[1;37m    ^\u001b[0m\n\u001b[1;31mSyntaxError\u001b[0m\u001b[1;31m:\u001b[0m invalid syntax\n"
     ]
    }
   ],
   "source": [
    "#Se trata de un paquete necesario para el correcto funcionamiento de este código\n",
    "!pip install --upgrade imutils\n",
    "import codigo_final"
   ]
  },
  {
   "cell_type": "markdown",
   "id": "b252caa7-0396-4554-b067-1a2ab668b5c4",
   "metadata": {},
   "source": [
    "<h2 style=\"\n",
    "    color: #6495ED;\n",
    "    font-family: Poppins, Nunito, sans-serif;\n",
    "    font-size: 1.5em;\n",
    "    font-weight: 800;\n",
    "    text-shadow: 2px 2px 4px rgba(0,0,0,0.2);\">\n",
    "    Conclusiones\n",
    "</h2>"
   ]
  },
  {
   "cell_type": "markdown",
   "id": "acc2e810-8af9-45c4-a90c-ba2c84536ede",
   "metadata": {},
   "source": [
    "Los desarrolladores de este proyecto, Jacobo Sánchez Malo y Daniel Díez Lafuente hemos podido poner en práctica los conocimientos\n",
    "adquiridos durante las sesiones prácticas de la asignatura de Imagen; Nos ha servido sobre todo para poner en práctica\n",
    "los conceptos de Stitching, Detectores de Contorno y la conversión a escala de grises (así como sus utilidades).\n",
    "<br><br>\n",
    "Sobra decir que hemos difrutado del proyecto y podemos afirmar con seguridad entender en plenitud el funcionamiento, tanto de nuestro\n",
    "código, como de la materia impartida a lo largo de la asignatura."
   ]
  },
  {
   "cell_type": "code",
   "execution_count": null,
   "id": "3bd2064b-1237-40e6-962c-c5c76ff536b7",
   "metadata": {},
   "outputs": [],
   "source": []
  }
 ],
 "metadata": {
  "kernelspec": {
   "display_name": "Python 3 (ipykernel)",
   "language": "python",
   "name": "python3"
  },
  "language_info": {
   "codemirror_mode": {
    "name": "ipython",
    "version": 3
   },
   "file_extension": ".py",
   "mimetype": "text/x-python",
   "name": "python",
   "nbconvert_exporter": "python",
   "pygments_lexer": "ipython3",
   "version": "3.9.19"
  }
 },
 "nbformat": 4,
 "nbformat_minor": 5
}
