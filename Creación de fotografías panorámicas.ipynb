{
 "cells": [
  {
   "cell_type": "markdown",
   "id": "7f6d07d0-f9c8-4b9c-8317-cd29c5211c38",
   "metadata": {},
   "source": [
    "<h1 style=\"\n",
    "    color: #2B4F81;\n",
    "    font-family: Poppins, Nunito, sans-serif;\n",
    "    text-align: center;\n",
    "    font-size: 3em;\n",
    "    font-weight: 800;\n",
    "    text-shadow: 2px 2px 4px rgba(0,0,0,0.2);\">\n",
    "    Creación de Fotografías Panorámicas\n",
    "</h1>"
   ]
  },
  {
   "cell_type": "markdown",
   "id": "7a9f4a9c-db99-4043-84c2-bec4fa3621c0",
   "metadata": {},
   "source": [
    "<h2 style=\"\n",
    "    color: #2B4F81;\n",
    "    font-family: Poppins, Nunito, sans-serif;\n",
    "    font-size: 1.5em;\n",
    "    font-weight: 800;\n",
    "    text-shadow: 2px 2px 4px rgba(0,0,0,0.2);\">\n",
    "    Introducción\n",
    "</h2>\n",
    "\n",
    "El proposito principal de este cuadernillo es permitir al usuario la creación de fotografías panorámicas usando como base una o varias fotografías de su elección"
   ]
  },
  {
   "cell_type": "markdown",
   "id": "5caefb59-507b-44d9-9a85-624ecbb52889",
   "metadata": {},
   "source": [
    "<h2 style=\"\n",
    "    color: #2B4F81;\n",
    "    font-family: Poppins, Nunito, sans-serif;\n",
    "    font-size: 1.5em;\n",
    "    font-weight: 800;\n",
    "    text-shadow: 2px 2px 4px rgba(0,0,0,0.2);\">\n",
    "    Explicación del Código\n",
    "</h2>"
   ]
  },
  {
   "cell_type": "code",
   "execution_count": null,
   "id": "f4222953-9062-4cc5-bd08-48d4b036b83e",
   "metadata": {},
   "outputs": [],
   "source": []
  },
  {
   "cell_type": "markdown",
   "id": "3a8e8d38-b301-4bda-97e5-671ae8b16318",
   "metadata": {},
   "source": [
    "<h2 style=\"\n",
    "    color: #2B4F81;\n",
    "    font-family: Poppins, Nunito, sans-serif;\n",
    "    font-size: 1.5em;\n",
    "    font-weight: 800;\n",
    "    text-shadow: 2px 2px 4px rgba(0,0,0,0.2);\">\n",
    "    Funcionamiento\n",
    "</h2>"
   ]
  },
  {
   "cell_type": "code",
   "execution_count": 1,
   "id": "612f260a-c927-4873-9a2d-81cebac9415e",
   "metadata": {},
   "outputs": [
    {
     "ename": "ModuleNotFoundError",
     "evalue": "No module named 'imutils'",
     "output_type": "error",
     "traceback": [
      "\u001b[1;31m---------------------------------------------------------------------------\u001b[0m",
      "\u001b[1;31mModuleNotFoundError\u001b[0m                       Traceback (most recent call last)",
      "Cell \u001b[1;32mIn[1], line 1\u001b[0m\n\u001b[1;32m----> 1\u001b[0m \u001b[38;5;28;01mfrom\u001b[39;00m \u001b[38;5;21;01mcodigo_final\u001b[39;00m\u001b[38;5;21;01m.\u001b[39;00m\u001b[38;5;21;01mpy\u001b[39;00m \u001b[38;5;28;01mimport\u001b[39;00m \u001b[38;5;241m*\u001b[39m\n",
      "File \u001b[1;32m~\\OneDrive\\Escritorio\\Imagen\\Trabajo\\Panoramicas-Python\\codigo_final.py:2\u001b[0m\n\u001b[0;32m      1\u001b[0m \u001b[38;5;66;03m#=======LIBRERIAS=======#\u001b[39;00m\n\u001b[1;32m----> 2\u001b[0m \u001b[38;5;28;01mfrom\u001b[39;00m \u001b[38;5;21;01mimutils\u001b[39;00m \u001b[38;5;28;01mimport\u001b[39;00m paths\n\u001b[0;32m      3\u001b[0m \u001b[38;5;28;01mimport\u001b[39;00m \u001b[38;5;21;01mnumpy\u001b[39;00m \u001b[38;5;28;01mas\u001b[39;00m \u001b[38;5;21;01mnp\u001b[39;00m\n\u001b[0;32m      4\u001b[0m \u001b[38;5;28;01mimport\u001b[39;00m \u001b[38;5;21;01margparse\u001b[39;00m\n",
      "\u001b[1;31mModuleNotFoundError\u001b[0m: No module named 'imutils'"
     ]
    }
   ],
   "source": [
    "from codigo_final.py import *"
   ]
  },
  {
   "cell_type": "markdown",
   "id": "b252caa7-0396-4554-b067-1a2ab668b5c4",
   "metadata": {},
   "source": [
    "<h2 style=\"\n",
    "    color: #2B4F81;\n",
    "    font-family: Poppins, Nunito, sans-serif;\n",
    "    font-size: 1.5em;\n",
    "    font-weight: 800;\n",
    "    text-shadow: 2px 2px 4px rgba(0,0,0,0.2);\">\n",
    "    Conclusiones\n",
    "</h2>"
   ]
  }
 ],
 "metadata": {
  "kernelspec": {
   "display_name": "Python 3 (ipykernel)",
   "language": "python",
   "name": "python3"
  },
  "language_info": {
   "codemirror_mode": {
    "name": "ipython",
    "version": 3
   },
   "file_extension": ".py",
   "mimetype": "text/x-python",
   "name": "python",
   "nbconvert_exporter": "python",
   "pygments_lexer": "ipython3",
   "version": "3.9.19"
  }
 },
 "nbformat": 4,
 "nbformat_minor": 5
}
